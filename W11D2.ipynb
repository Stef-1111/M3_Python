{
 "cells": [
  {
   "cell_type": "code",
   "execution_count": 1,
   "id": "6836974c-c9fa-4d0b-a352-3bab302df0ab",
   "metadata": {},
   "outputs": [],
   "source": [
    "studenti = 25"
   ]
  },
  {
   "cell_type": "code",
   "execution_count": 3,
   "id": "cb596d2c-0169-47bd-ba5a-083bc2fa805d",
   "metadata": {},
   "outputs": [
    {
     "name": "stdout",
     "output_type": "stream",
     "text": [
      "25\n"
     ]
    }
   ],
   "source": [
    "print(studenti)"
   ]
  },
  {
   "cell_type": "code",
   "execution_count": 9,
   "id": "40ebf374-66ea-4d12-a556-d5eac9c896b8",
   "metadata": {},
   "outputs": [],
   "source": [
    "studenti_nuovi = 3"
   ]
  },
  {
   "cell_type": "code",
   "execution_count": 11,
   "id": "91f2e77e-1678-4abd-9404-84fc992655ae",
   "metadata": {},
   "outputs": [
    {
     "name": "stdout",
     "output_type": "stream",
     "text": [
      "3\n"
     ]
    }
   ],
   "source": [
    "print(studenti_nuovi)\n"
   ]
  },
  {
   "cell_type": "code",
   "execution_count": 15,
   "id": "8a22a83d-a3dd-44fb-b438-484e66dd522c",
   "metadata": {},
   "outputs": [],
   "source": [
    "Tot = studenti + studenti_nuovi"
   ]
  },
  {
   "cell_type": "code",
   "execution_count": 17,
   "id": "6fdf885d-d089-4908-804c-4f4b4299c17d",
   "metadata": {},
   "outputs": [
    {
     "name": "stdout",
     "output_type": "stream",
     "text": [
      "28\n"
     ]
    }
   ],
   "source": [
    "print(Tot)"
   ]
  },
  {
   "cell_type": "code",
   "execution_count": 19,
   "id": "d1eee964-bf3e-473b-9ba5-add638a0f077",
   "metadata": {},
   "outputs": [],
   "source": [
    "nome = \"Epicode\""
   ]
  },
  {
   "cell_type": "code",
   "execution_count": 21,
   "id": "a0fd0912-acd6-4226-8e4e-9d1b76265539",
   "metadata": {},
   "outputs": [
    {
     "name": "stdout",
     "output_type": "stream",
     "text": [
      "Epicode\n"
     ]
    }
   ],
   "source": [
    "print(nome)"
   ]
  },
  {
   "cell_type": "code",
   "execution_count": 23,
   "id": "6f29e2c7-84c4-4ce7-ba92-f30ec519f6e7",
   "metadata": {},
   "outputs": [],
   "source": [
    "x = 10"
   ]
  },
  {
   "cell_type": "code",
   "execution_count": 25,
   "id": "00a0dbe6-1cde-40d5-957c-3ada6e54035a",
   "metadata": {},
   "outputs": [],
   "source": [
    "x += 2"
   ]
  },
  {
   "cell_type": "code",
   "execution_count": 27,
   "id": "9cf03aa8-b43d-4776-a3c9-b45498f16b89",
   "metadata": {},
   "outputs": [],
   "source": [
    "x *= 3"
   ]
  },
  {
   "cell_type": "code",
   "execution_count": 29,
   "id": "8f25a8e2-d4e1-4fb6-ad75-228eebce56c6",
   "metadata": {},
   "outputs": [
    {
     "name": "stdout",
     "output_type": "stream",
     "text": [
      "36\n"
     ]
    }
   ],
   "source": [
    "print(x)"
   ]
  },
  {
   "cell_type": "code",
   "execution_count": 53,
   "id": "21dda169-73b9-49f9-88b9-c18d1c8690bf",
   "metadata": {},
   "outputs": [],
   "source": [
    "x=10"
   ]
  },
  {
   "cell_type": "code",
   "execution_count": 55,
   "id": "bbca86e1-0e08-4531-bd3a-a6ca39f699f4",
   "metadata": {},
   "outputs": [],
   "source": [
    "x1 =2"
   ]
  },
  {
   "cell_type": "code",
   "execution_count": 57,
   "id": "3f33f012-35e3-449f-8b0f-d92ebf4f2360",
   "metadata": {},
   "outputs": [],
   "source": [
    "x3 = 3"
   ]
  },
  {
   "cell_type": "code",
   "execution_count": 59,
   "id": "a5dafae5-0f2b-415c-ae34-7becfa34a4d0",
   "metadata": {},
   "outputs": [],
   "source": [
    "x = (x + x1) * x3"
   ]
  },
  {
   "cell_type": "code",
   "execution_count": 61,
   "id": "561ddb3f-742f-46f8-b112-090710815824",
   "metadata": {},
   "outputs": [
    {
     "data": {
      "text/plain": [
       "36"
      ]
     },
     "execution_count": 61,
     "metadata": {},
     "output_type": "execute_result"
    }
   ],
   "source": [
    "x"
   ]
  },
  {
   "cell_type": "code",
   "execution_count": 12,
   "id": "bf8b8da7-0536-41a9-acc1-2b9803f9a683",
   "metadata": {},
   "outputs": [],
   "source": [
    "str1 = \"Windows\""
   ]
  },
  {
   "cell_type": "code",
   "execution_count": null,
   "id": "dfb0f84f-6f77-40e2-8503-f132e5673339",
   "metadata": {},
   "outputs": [],
   "source": []
  },
  {
   "cell_type": "code",
   "execution_count": 13,
   "id": "6e77df11-f2bd-4812-be47-5c33038145ab",
   "metadata": {},
   "outputs": [],
   "source": [
    "str2 = \"Excel\""
   ]
  },
  {
   "cell_type": "code",
   "execution_count": 14,
   "id": "a4df878f-8e03-4963-9156-888dd2ee551f",
   "metadata": {},
   "outputs": [],
   "source": [
    "str3 = \"Powerpoint\""
   ]
  },
  {
   "cell_type": "code",
   "execution_count": 15,
   "id": "d15a630c-a6f5-4304-9dee-dd26d27b1489",
   "metadata": {},
   "outputs": [],
   "source": [
    "str4 = \"Word\""
   ]
  },
  {
   "cell_type": "code",
   "execution_count": 16,
   "id": "534d8545-88d1-45fe-8def-26ae35829f62",
   "metadata": {},
   "outputs": [
    {
     "data": {
      "text/plain": [
       "7"
      ]
     },
     "execution_count": 16,
     "metadata": {},
     "output_type": "execute_result"
    }
   ],
   "source": [
    "len(str1)"
   ]
  },
  {
   "cell_type": "code",
   "execution_count": 17,
   "id": "e9b04acc-c194-4fa1-8169-0c9e6af75d59",
   "metadata": {},
   "outputs": [
    {
     "data": {
      "text/plain": [
       "5"
      ]
     },
     "execution_count": 17,
     "metadata": {},
     "output_type": "execute_result"
    }
   ],
   "source": [
    "len(str2)"
   ]
  },
  {
   "cell_type": "code",
   "execution_count": 18,
   "id": "1cb0ccca-9d10-4d64-80f4-6784147960f9",
   "metadata": {},
   "outputs": [
    {
     "data": {
      "text/plain": [
       "10"
      ]
     },
     "execution_count": 18,
     "metadata": {},
     "output_type": "execute_result"
    }
   ],
   "source": [
    "len(str3)"
   ]
  },
  {
   "cell_type": "code",
   "execution_count": 19,
   "id": "b18f3163-9cc8-4f4a-8a9f-8a6d7d98c9e0",
   "metadata": {},
   "outputs": [
    {
     "data": {
      "text/plain": [
       "4"
      ]
     },
     "execution_count": 19,
     "metadata": {},
     "output_type": "execute_result"
    }
   ],
   "source": [
    "len(str4)"
   ]
  },
  {
   "cell_type": "code",
   "execution_count": 20,
   "id": "3fac5ac3-bf62-42df-883c-fc8b207447bf",
   "metadata": {},
   "outputs": [],
   "source": [
    "secondianno=60*60*24*30*4 + 60*60*24*31*7 + 60*60*24*28\n"
   ]
  },
  {
   "cell_type": "code",
   "execution_count": 21,
   "id": "d86f8315-70bc-4eee-9a01-5b40d006ce56",
   "metadata": {},
   "outputs": [
    {
     "name": "stdout",
     "output_type": "stream",
     "text": [
      "31536000\n"
     ]
    }
   ],
   "source": [
    "print(secondianno)"
   ]
  },
  {
   "cell_type": "code",
   "execution_count": 44,
   "id": "56560814-554f-4c00-a0c1-7f2443fcdfec",
   "metadata": {},
   "outputs": [],
   "source": [
    "my_string = \"I am studying Python\""
   ]
  },
  {
   "cell_type": "code",
   "execution_count": 47,
   "id": "66f9e08d-5b0d-4571-ba2d-15b48c67b932",
   "metadata": {},
   "outputs": [
    {
     "data": {
      "text/plain": [
       "'I AM STUDYING PYTHON'"
      ]
     },
     "execution_count": 47,
     "metadata": {},
     "output_type": "execute_result"
    }
   ],
   "source": [
    "my_string.upper()"
   ]
  },
  {
   "cell_type": "code",
   "execution_count": 57,
   "id": "52d08175-194e-43ac-8f4b-5dd2746cbe10",
   "metadata": {},
   "outputs": [
    {
     "data": {
      "text/plain": [
       "'i am studying python'"
      ]
     },
     "execution_count": 57,
     "metadata": {},
     "output_type": "execute_result"
    }
   ],
   "source": [
    "my_string.lower()"
   ]
  },
  {
   "cell_type": "code",
   "execution_count": 66,
   "id": "7592e0b6-edb4-456c-92a6-10d418ab78bd",
   "metadata": {},
   "outputs": [],
   "source": [
    "nstr = my_string.replace(\"python\", \"a lot\")"
   ]
  },
  {
   "cell_type": "code",
   "execution_count": 68,
   "id": "706dc2a2-0c03-423e-abfa-4d63e0d679a2",
   "metadata": {},
   "outputs": [
    {
     "data": {
      "text/plain": [
       "'I am studying Python'"
      ]
     },
     "execution_count": 68,
     "metadata": {},
     "output_type": "execute_result"
    }
   ],
   "source": [
    "my_string.strip()"
   ]
  },
  {
   "cell_type": "code",
   "execution_count": 70,
   "id": "f03be493-78af-46b2-9232-bd295cd3899d",
   "metadata": {},
   "outputs": [],
   "source": [
    "my_string = \"I am studying Python   \""
   ]
  },
  {
   "cell_type": "code",
   "execution_count": 72,
   "id": "507e4c25-645f-47a3-85c9-43e7265293c7",
   "metadata": {},
   "outputs": [
    {
     "data": {
      "text/plain": [
       "'I am studying Python'"
      ]
     },
     "execution_count": 72,
     "metadata": {},
     "output_type": "execute_result"
    }
   ],
   "source": [
    "my_string.strip()"
   ]
  },
  {
   "cell_type": "code",
   "execution_count": null,
   "id": "fb686a1b-aef7-4675-859d-5a83486a5871",
   "metadata": {},
   "outputs": [],
   "source": []
  }
 ],
 "metadata": {
  "kernelspec": {
   "display_name": "Python 3 (ipykernel)",
   "language": "python",
   "name": "python3"
  },
  "language_info": {
   "codemirror_mode": {
    "name": "ipython",
    "version": 3
   },
   "file_extension": ".py",
   "mimetype": "text/x-python",
   "name": "python",
   "nbconvert_exporter": "python",
   "pygments_lexer": "ipython3",
   "version": "3.12.7"
  }
 },
 "nbformat": 4,
 "nbformat_minor": 5
}
