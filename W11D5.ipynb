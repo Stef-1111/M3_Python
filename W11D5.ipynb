{
 "cells": [
  {
   "cell_type": "code",
   "execution_count": 1,
   "id": "2fc6665f-5953-4892-8e27-0ec8359580fa",
   "metadata": {},
   "outputs": [
    {
     "name": "stdout",
     "output_type": "stream",
     "text": [
      "E\n",
      "p\n",
      "i\n",
      "c\n",
      "o\n",
      "d\n",
      "e\n"
     ]
    }
   ],
   "source": [
    "nome_scuola = \"Epicode\"\n",
    "index = 0 \n",
    "for i in nome_scuola:\n",
    "    print(nome_scuola[index])\n",
    "    index +=1"
   ]
  },
  {
   "cell_type": "code",
   "execution_count": 2,
   "id": "267960b6-258a-43d4-b746-56362897a6a0",
   "metadata": {},
   "outputs": [
    {
     "name": "stdout",
     "output_type": "stream",
     "text": [
      "E\n",
      "p\n",
      "i\n",
      "c\n",
      "o\n",
      "d\n",
      "e\n"
     ]
    }
   ],
   "source": [
    "nome_scuola = \"Epicode\"\n",
    "index = 0 \n",
    "while index < len(\"epicode\"):\n",
    "    print(nome_scuola[index])\n",
    "    index +=1"
   ]
  },
  {
   "cell_type": "code",
   "execution_count": 3,
   "id": "a1fec7b0-2c04-4147-925b-0e08b96aab99",
   "metadata": {},
   "outputs": [
    {
     "name": "stdout",
     "output_type": "stream",
     "text": [
      "0 1 2 3 4 5 6 7 8 9 10 11 12 13 14 15 16 17 18 19 "
     ]
    }
   ],
   "source": [
    "# Stampare a video tutti i numeri da 0 a 20 utilizzando il costrutto while\n",
    "num = 0 \n",
    "while num < 20 :\n",
    "    print(num, end=\" \")\n",
    "    num +=1"
   ]
  },
  {
   "cell_type": "code",
   "execution_count": 4,
   "id": "f1d869b1-8816-4176-9a8d-a2495cf7dafd",
   "metadata": {},
   "outputs": [
    {
     "name": "stdout",
     "output_type": "stream",
     "text": [
      "1 2 4 8 16 32 64 128 256 512 "
     ]
    }
   ],
   "source": [
    "# Calcolare e stampare tutte le prime 10 potenze di 2 (e.g., 2⁰, 2¹, 2², …) \n",
    "pot = 0 \n",
    "while pot < 10: \n",
    "    print(2**(pot), end=\" \")\n",
    "    pot += 1"
   ]
  },
  {
   "cell_type": "code",
   "execution_count": null,
   "id": "ba6d03e3-748e-4a2a-b9ee-8cd6119019ff",
   "metadata": {},
   "outputs": [],
   "source": [
    "# Calcolare e stampare tutte le prime N potenze di 2 utilizzando un ciclo while, domandando all'utente di inserire N\n",
    "\n",
    "n = int(input(\"Inserire un numero:\"))\n",
    "print(\"Congratulazioni! Hai scelto di vedere le prime\", n, \"potenze di 2!\")\n",
    "p = 0 \n",
    "while p<n: \n",
    "    print(2**p, end=\" \")\n",
    "    p+=1"
   ]
  },
  {
   "cell_type": "code",
   "execution_count": null,
   "id": "fbdc1d90-23fe-4a19-b207-4ef6a489c64b",
   "metadata": {},
   "outputs": [],
   "source": [
    "# Calcolare e stampare tutte le potenze di 2 minori di 25000.\n",
    "p = 0 \n",
    "while 2**p<2500: \n",
    "    print(2**p, end=\" \")\n",
    "    p+=1\n"
   ]
  },
  {
   "cell_type": "code",
   "execution_count": null,
   "id": "dc6e5006-c090-4e33-9ead-7415023838ef",
   "metadata": {},
   "outputs": [],
   "source": [
    "\n",
    "studenti = [\"Alex\", \"Bob\", \"Cindy\", \"Dan\", \"Emma\", \"Faith\", \"Grace\", \"Henry\"] \n",
    "corsi = [\"Cybersecurity\", \"Data Analyst\", \"Backend\", \"Frontend\", \"Data Analyst\", \"Backend\"]\n",
    "# Emma segue Data Analyst Faith segue Backend Grace segue Frontend Henry segue Cybersecurity\n",
    "corsi.append(\"Frontend\")\n",
    "corsi.append(\"Cybersecurity\")\n",
    "print(len(studenti), len(corsi))"
   ]
  },
  {
   "cell_type": "code",
   "execution_count": null,
   "id": "ee3b03e4-6471-4d1b-af28-eda6f7fb890a",
   "metadata": {},
   "outputs": [],
   "source": [
    "import math as m\n",
    "s = int(input(\"inserire numero\"))\n",
    "fattori = []\n",
    "\n",
    "for i in range(1, s +1):\n",
    "    if s % i == 0:\n",
    "        fattori.append(i)\n",
    "\n",
    "print(\"I fattori del numero da te selezionato sono:\", fattori)"
   ]
  },
  {
   "cell_type": "code",
   "execution_count": null,
   "id": "37f3da58-c1e8-49a6-b2b0-23e17988bf82",
   "metadata": {},
   "outputs": [],
   "source": [
    "n = \"Epicode\"\n",
    "\n",
    "for i in n:\n",
    "    print(i)"
   ]
  },
  {
   "cell_type": "code",
   "execution_count": 3,
   "id": "c12bde73-b3d3-478c-9384-5255d67a2148",
   "metadata": {},
   "outputs": [
    {
     "name": "stdout",
     "output_type": "stream",
     "text": [
      "1 2 4 8 16 32 64 128 256 512 1024 "
     ]
    }
   ],
   "source": [
    "pot = 0 \n",
    "while pot < 11: \n",
    "    a = 2**pot\n",
    "    print(a, end=\" \")\n",
    "    pot += 1"
   ]
  },
  {
   "cell_type": "code",
   "execution_count": 162,
   "id": "9c50cbac-f168-4c23-a077-e319e236f998",
   "metadata": {},
   "outputs": [
    {
     "name": "stdin",
     "output_type": "stream",
     "text": [
      "inserire la base 5\n",
      "inserire il numero di potenze 6\n"
     ]
    },
    {
     "name": "stdout",
     "output_type": "stream",
     "text": [
      "Le potenze da te scelte sono: [1, 5, 25, 125, 625, 3125, 15625]\n"
     ]
    }
   ],
   "source": [
    "k = int(input(\"inserire la base\"))\n",
    "n = int(input(\"inserire il numero di potenze\"))\n",
    "risultati = []\n",
    "pot = 0 \n",
    "while pot <= n:\n",
    "    a = k**pot\n",
    "    risultati.append(a)\n",
    "    pot += 1 \n",
    "print(\"Le potenze da te scelte sono:\", risultati)"
   ]
  },
  {
   "cell_type": "code",
   "execution_count": 164,
   "id": "3e32b859-262d-4e67-8369-a70d3fc50e99",
   "metadata": {},
   "outputs": [
    {
     "name": "stdin",
     "output_type": "stream",
     "text": [
      "Inserire la base:  5\n",
      "Inserire il numero di potenze:  6\n"
     ]
    },
    {
     "name": "stdout",
     "output_type": "stream",
     "text": [
      "Le potenze da te scelte sono: [5, 25, 125, 625, 3125, 15625]\n"
     ]
    }
   ],
   "source": [
    "k = int(input(\"Inserire la base: \"))\n",
    "n = int(input(\"Inserire il numero di potenze: \"))\n",
    "risultati = []\n",
    "# Usare un ciclo for per calcolare e stampare le potenze\n",
    "for potenza in range(1, n + 1):\n",
    "    a = k ** potenza\n",
    "    risultati.append(a)\n",
    "print(\"Le potenze da te scelte sono:\", risultati)"
   ]
  },
  {
   "cell_type": "code",
   "execution_count": 170,
   "id": "02ed9032-7b46-417c-a90a-8893a4c99976",
   "metadata": {},
   "outputs": [
    {
     "name": "stdout",
     "output_type": "stream",
     "text": [
      "70.0\n"
     ]
    }
   ],
   "source": [
    "guadagni = [100, 90, 70, 40, 50, 80, 90, 120, 80, 20, 50, 50]\n",
    "n = len(guadagni)\n",
    "somma = 0\n",
    "for guadagno in guadagni:\n",
    "    somma += guadagno\n",
    "media = s/n\n",
    "print(media)"
   ]
  },
  {
   "cell_type": "code",
   "execution_count": 39,
   "id": "1d87c215-1cc7-4e6d-83e4-0e4771752f7a",
   "metadata": {},
   "outputs": [
    {
     "name": "stdout",
     "output_type": "stream",
     "text": [
      "la parola 'Albergo' contiene 0 E maiuscola/e e 1 e minuscole/e\n",
      "la parola 'Sedia' contiene 0 E maiuscola/e e 1 e minuscole/e\n",
      "la parola 'Borgo' contiene 0 E maiuscola/e e 0 e minuscole/e\n",
      "la parola 'Petalo' contiene 0 E maiuscola/e e 1 e minuscole/e\n",
      "la parola 'Eremo' contiene 1 E maiuscola/e e 1 e minuscole/e\n",
      "la parola 'Belvedere' contiene 0 E maiuscola/e e 4 e minuscole/e\n",
      "la parola 'Semestre' contiene 0 E maiuscola/e e 3 e minuscole/e\n",
      "la parola 'Esteta' contiene 1 E maiuscola/e e 1 e minuscole/e\n",
      "la parola 'Sosta' contiene 0 E maiuscola/e e 0 e minuscole/e\n",
      "la parola 'Orpello' contiene 0 E maiuscola/e e 1 e minuscole/e\n",
      "la parola 'Abete' contiene 0 E maiuscola/e e 2 e minuscole/e\n",
      "la parola 'Orologio' contiene 0 E maiuscola/e e 0 e minuscole/e\n",
      "la parola 'Cesta' contiene 0 E maiuscola/e e 1 e minuscole/e\n",
      "la parola 'Ermellino' contiene 1 E maiuscola/e e 1 e minuscole/e\n"
     ]
    }
   ],
   "source": [
    "parole = [\"Albergo\", \"Sedia\", \"Borgo\", \"Petalo\", \"Eremo\", \"Belvedere\", \"Semestre\", \"Esteta\", \"Sosta\", \"Orpello\", \"Abete\", \"Orologio\", \"Cesta\", \"Ermellino\"]\n",
    "\n",
    "for p in parole: \n",
    "    E = p.count(\"E\")\n",
    "    e = p.count(\"e\")\n",
    "    print(f\"la parola '{p}' contiene {E} E maiuscola/e e {e} e minuscole/e\")"
   ]
  },
  {
   "cell_type": "code",
   "execution_count": 57,
   "id": "0547f9df-5004-4b41-b603-a1ce6d96c3ed",
   "metadata": {},
   "outputs": [
    {
     "name": "stdout",
     "output_type": "stream",
     "text": [
      "{'Ada': 'Punto', 'Ben': 'Multipla', 'Charlie': 'Golf', 'Debbie': '107'}\n",
      "107\n"
     ]
    }
   ],
   "source": [
    "diz = {\"Ada\" : \"Punto\" \n",
    "        , \"Ben\": \"Multipla\"\n",
    "        ,  \"Charlie\":\"Golf\"\n",
    "        , \"Debbie\":\"107\"}\n",
    "print(diz)\n",
    "print(diz[\"Debbie\"])"
   ]
  },
  {
   "cell_type": "code",
   "execution_count": 80,
   "id": "b8f98eaa-1820-4439-aa73-cce59399bda3",
   "metadata": {},
   "outputs": [
    {
     "name": "stdout",
     "output_type": "stream",
     "text": [
      "Punto\n",
      "Golf\n",
      "107\n"
     ]
    }
   ],
   "source": [
    "d = {\"Ada\": \"Punto\", \"Ben\": \"Multipla\", \"Charlie\": \"Golf\", \"Debbie\": \"107\"}\n",
    "dv = d.values()\n",
    "\n",
    "for i in dv:\n",
    "    if i != \"Multipla\":\n",
    "        print(i)\n",
    "        "
   ]
  },
  {
   "cell_type": "code",
   "execution_count": 102,
   "id": "de619d72-3a57-43c3-9891-2a9c9bd5c918",
   "metadata": {},
   "outputs": [
    {
     "name": "stdout",
     "output_type": "stream",
     "text": [
      "Ben posside una: Multipla\n",
      "{'Ada': 'Punto', 'Ben': 'Polo', 'Charlie': 'Golf', 'Debbie': '107', 'Emily': 'A1', 'Fred': 'Octavia', 'Grace': 'Yaris', 'Hugh': 'Clio'}\n",
      "Ben ora posside una: Polo\n"
     ]
    }
   ],
   "source": [
    "#Abbiamo due dizionari che assegnano ad ogni proprietario la propria auto:\n",
    "dizionario_auto = {\"Ada\": \"Punto\", \"Ben\": \"Multipla\", \"Charlie\": \"Golf\", \"Debbie\": \"107\", \"Emily\": \"A1\"} \n",
    "nuovi_proprietari = {\"Ben\": \"Polo\", \"Fred\": \"Octavia\", \"Grace\": \"Yaris\", \"Hugh\": \"Clio\"} \n",
    "#Aggiornare il dizionario dizionario_auto con i dati contenuti in nuovi_proprietari e stamparlo. Cosa è successo a Ben?\n",
    "# Uso funzione update\n",
    "print(\"Ben posside una:\", dizionario_auto[\"Ben\"])\n",
    "dizionario_auto.update(nuovi_proprietari)\n",
    "print(dizionario_auto)\n",
    "print(\"Ben ora posside una:\", dizionario_auto[\"Ben\"])"
   ]
  },
  {
   "cell_type": "code",
   "execution_count": 114,
   "id": "ac18ec79-8eab-40df-b807-9caaf04d6850",
   "metadata": {},
   "outputs": [
    {
     "name": "stdout",
     "output_type": "stream",
     "text": [
      "Min: 4\n",
      "Max: 9204\n"
     ]
    }
   ],
   "source": [
    "lista = [5, 8, 23, 56, 9204, 4, 555]\n",
    "\n",
    "print(\"Min:\", min(lista))\n",
    "print(\"Max:\", max(lista))"
   ]
  },
  {
   "cell_type": "code",
   "execution_count": null,
   "id": "0718a0be-422c-42e6-96ed-cea9dc2b4509",
   "metadata": {},
   "outputs": [],
   "source": [
    "l = [5, 8, 23, 56, 9204, 4, 555]\n",
    "l.sort()\n",
    "print(\"I 3 numer più grandi sono:\", l[-3:])\n",
    "print(\"I 3 numer più piccoli sono:\", l[:3])\n",
    "\n",
    "\n",
    "if len(l)<3:\n",
    "        print(\"La lista contiene soltanto i seguenti valori:\", l)\n",
    "        print(\"Di cui il valore più grande è:\", max(l))\n",
    "\n",
    "l = [5, 8, 23, 56, 56, 9204, 4, 4, 555]\n",
    "for i in l: \n",
    "    while i< len(l):\n",
    "        if l[i] == l[i+1]:\n",
    "            ln = l.pop(i)\n",
    "ln.sort()\n",
    "print(ln)"
   ]
  },
  {
   "cell_type": "code",
   "execution_count": null,
   "id": "8cc0d58a-9d74-4e2d-9643-d788f278b54f",
   "metadata": {},
   "outputs": [],
   "source": []
  },
  {
   "cell_type": "code",
   "execution_count": null,
   "id": "16d099d9-dfa9-44a1-8402-8e7a33c26409",
   "metadata": {},
   "outputs": [],
   "source": []
  },
  {
   "cell_type": "code",
   "execution_count": null,
   "id": "77990769-9fbf-4729-b3f8-d30fc1b6fb14",
   "metadata": {},
   "outputs": [],
   "source": []
  },
  {
   "cell_type": "code",
   "execution_count": null,
   "id": "71fd7aeb-be65-4ae9-90b9-019133db7f85",
   "metadata": {},
   "outputs": [],
   "source": []
  },
  {
   "cell_type": "code",
   "execution_count": null,
   "id": "43c272a3-4206-4613-bfe4-e1ad139503c0",
   "metadata": {},
   "outputs": [],
   "source": []
  }
 ],
 "metadata": {
  "kernelspec": {
   "display_name": "Python 3 (ipykernel)",
   "language": "python",
   "name": "python3"
  },
  "language_info": {
   "codemirror_mode": {
    "name": "ipython",
    "version": 3
   },
   "file_extension": ".py",
   "mimetype": "text/x-python",
   "name": "python",
   "nbconvert_exporter": "python",
   "pygments_lexer": "ipython3",
   "version": "3.12.7"
  }
 },
 "nbformat": 4,
 "nbformat_minor": 5
}
