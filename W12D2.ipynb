{
 "cells": [
  {
   "cell_type": "code",
   "execution_count": 7,
   "id": "2272e79c-664a-4666-9c6c-fff826725809",
   "metadata": {},
   "outputs": [
    {
     "data": {
      "text/plain": [
       "13"
      ]
     },
     "execution_count": 7,
     "metadata": {},
     "output_type": "execute_result"
    }
   ],
   "source": [
    "mat = [[0, 1, 2, 3, 4], [5, 6, 7, 8, 9], [10, 11, 12, 13, 14]]\n",
    "# Matrice \n",
    "mat[2][3] # mat[riga][colonna] dovrebbe plottare 13 -- rircoda iniza a contare da 0"
   ]
  },
  {
   "cell_type": "code",
   "execution_count": 19,
   "id": "d1a1b9f6-923c-4633-ba38-92d0d85a53e3",
   "metadata": {},
   "outputs": [
    {
     "name": "stdout",
     "output_type": "stream",
     "text": [
      "0.9974949866040544, -1.0, 24\n"
     ]
    }
   ],
   "source": [
    "import math as m\n",
    "x = 3/2\n",
    "a = m.sin(x)\n",
    "b= m.cos(m.pi)\n",
    "c = m.factorial(4)\n",
    "\n",
    "print(a, b, c, sep=\", \")"
   ]
  },
  {
   "cell_type": "code",
   "execution_count": 29,
   "id": "43e0c698-00a3-4738-a226-4e7c2ecf02df",
   "metadata": {},
   "outputs": [
    {
     "data": {
      "text/plain": [
       "180.0"
      ]
     },
     "execution_count": 29,
     "metadata": {},
     "output_type": "execute_result"
    }
   ],
   "source": [
    "import math\n",
    "math.degrees(math.pi) \n",
    "# indica pi in gradi, valore è 180 gradi. pi è in radianti"
   ]
  },
  {
   "cell_type": "code",
   "execution_count": 86,
   "id": "d85ad0ae-42ec-4020-954b-0e1a692b6165",
   "metadata": {},
   "outputs": [
    {
     "name": "stdout",
     "output_type": "stream",
     "text": [
      "Le vendite di questo mese dono state: [2000 5500 7200 4320 1280 1900 2500 3900 6410 8150 7100 5350]\n",
      "Vendita col maggior numero di transazioni: 8150\n",
      "Vendita col minor numero di transazioni: 1280\n",
      "Transazioni con più di 4999 unità: [5500 7200 6410 8150 7100 5350]\n",
      "Transazioni con meno di 3000 unità: [5500 7200 4320 3900 6410 8150 7100 5350]\n"
     ]
    }
   ],
   "source": [
    "#L'azienda Object SpA ha creato una lista di quanti oggetti ha venduto ogni mese nell'ultimo anno\n",
    "lst = [2000, 5500, 7200, 4320, 1280, 1900, 2500, 3900, 6410, 8150, 7100, 5350]\n",
    "#trasformiamola in un array NumPy (casting):\n",
    "import numpy as np\n",
    "a = np.array(lst)\n",
    "max = np.max(a)\n",
    "min = np.min(a)\n",
    "val1 = a>4999\n",
    "val2 = a>3000\n",
    "VenditeFiltrate1 = a[val1]\n",
    "VenditeFiltrate2 = a[val2]\n",
    "media= np.mean(a)\n",
    "\n",
    "print(\"Le vendite di questo mese dono state:\", a)\n",
    "print(\"Vendita col maggior numero di transazioni:\", max)\n",
    "print(\"Vendita col minor numero di transazioni:\", min)\n",
    "print(\"Transazioni con più di 4999 unità:\", VenditeFiltrate1)\n",
    "print(\"Transazioni con meno di 3000 unità:\", VenditeFiltrate2)"
   ]
  },
  {
   "cell_type": "code",
   "execution_count": 99,
   "id": "07e68532-051a-4bda-b762-c3836ae97525",
   "metadata": {},
   "outputs": [
    {
     "data": {
      "text/plain": [
       "12000"
      ]
     },
     "execution_count": 99,
     "metadata": {},
     "output_type": "execute_result"
    }
   ],
   "source": [
    "import pandas as pd\n",
    "#Consideriamo il seguente dizionario: \n",
    "fatturati_dict = {1997: 12_000, 1998: 15_000, 1999: 20_000, 2000: 23_000, 2001: 25_000, 2002: 17_000, 2003: 14_000, 2004: 21_000}\n",
    "fatturati_series = pd.Series([12_000, 15_000, 20_000, 23_000, 25_000, 17_000, 14_000, 21_000], index=range(1997, 2005))\n",
    "\n",
    "#Possiamo accedere alle stesse informazioni nello stesso modo:\n",
    "fatturati_dict[1997] \n",
    "fatturati_series[1997]\n",
    "\n",
    "#Dunque qual è la differenza tra i due tipi di dato? Cosa potremmo fare con la Series che non possiamo fare con il dizionario?\n",
    "# La Series può essere facilmente utilizzata con altre strutture Pandas, come DataFrames,\n",
    "#per l'analisi e la manipolazione dei dati su larga scala. Per esempio, possiamo facilmente trasformare una Series in una colonna di un DataFrame.\n",
    "# Series è indicizzata \n"
   ]
  },
  {
   "cell_type": "code",
   "execution_count": 14,
   "id": "28e52608-95a6-4a49-9408-d916930ed45b",
   "metadata": {},
   "outputs": [
    {
     "data": {
      "text/plain": [
       "array([ 200,  400,  600,  800, 1000, 1200, 1400, 1600, 1800, 2000])"
      ]
     },
     "execution_count": 14,
     "metadata": {},
     "output_type": "execute_result"
    }
   ],
   "source": [
    "#L'azienda Object SpA ha un dataset con tutti gli stipendi dei dipendenti, memorizzato in un ndarray: \n",
    "import numpy as np \n",
    "stipendi = np.array( [100, 200, 300, 400, 500,  600, 700, 800, 900, 1000] )\n",
    "\n",
    "# Ciclo for \n",
    "for i in range(len(stipendi)): \n",
    "    stipendi[i] *= 2\n",
    "stipendi\n",
    "\n",
    "\n",
    "stipendi = np.array( [100, 200, 300, 400, 500,  600, 700, 800, 900, 1000] )\n",
    "stipendi*= 2\n",
    "stipendi"
   ]
  },
  {
   "cell_type": "code",
   "execution_count": 24,
   "id": "57f79b36-7aa0-4ea0-ac34-9a3ba001d015",
   "metadata": {},
   "outputs": [
    {
     "name": "stdin",
     "output_type": "stream",
     "text": [
      "Inserisci una lista di elementi separati da spazi:  3 4 56 2 1 6 8\n",
      "Inserisci K 3\n"
     ]
    },
    {
     "name": "stdout",
     "output_type": "stream",
     "text": [
      "La media dei numeri > di 3 tra quelli selezionati è 11.0\n"
     ]
    }
   ],
   "source": [
    "#Scrivere un programma che \n",
    "#• in input acquisisce una lista di numeri e un numero K \n",
    "#• in output, dovrà restituire la media di tutti i numeri nella lista maggiori o uguali a K \n",
    "#• se non ce ne dovesse essere nessuno, dovrà stampare a schermo un messaggio adeguato.\n",
    "\n",
    "inp = input(\"Inserisci una lista di elementi separati da spazi: \")\n",
    "k = int(input(\"Inserisci K\"))\n",
    "lista =[int(x) for x in inp.split()]\n",
    "n = len(lista)\n",
    "somma = 0\n",
    "\n",
    "for numero in lista: \n",
    "    if numero >= k: \n",
    "        somma+=numero\n",
    "media = somma / n \n",
    "\n",
    "if somma == 0: \n",
    "    print(f\"nesun elemento della lista maggiore di {k}, impossibile computare la media\")\n",
    "else:\n",
    "    print(f\"La media dei numeri maggiori di {k} tra quelli selezionati è\", media)\n",
    "\n"
   ]
  },
  {
   "cell_type": "code",
   "execution_count": 38,
   "id": "3f24ec8b-56b9-496a-81bf-250deeb26ae1",
   "metadata": {},
   "outputs": [
    {
     "name": "stdin",
     "output_type": "stream",
     "text": [
      "Inserisci una lista di elementi separati da spazi:  1 3 4 \n"
     ]
    },
    {
     "name": "stdout",
     "output_type": "stream",
     "text": [
      "*\n",
      "***\n",
      "****\n"
     ]
    }
   ],
   "source": [
    "# Scrivere un programma che, data una lista di numeri, come output s#tamperà \n",
    "#lo stesso numero di asterischi su righe diverse, ottenendo una semplice visualizzazione grafica\n",
    "\n",
    "inp = input(\"Inserisci una lista di elementi separati da spazi: \")\n",
    "lista =[int(x) for x in inp.split()]\n",
    "car = \"*\"\n",
    "for i in lista: \n",
    "    print(i*car)\n"
   ]
  },
  {
   "cell_type": "code",
   "execution_count": 80,
   "id": "04b4c8ea-76e0-47bb-b8a5-a8820e668fac",
   "metadata": {},
   "outputs": [
    {
     "name": "stdout",
     "output_type": "stream",
     "text": [
      "Codici Fiscali della lista che contengono 95:\n",
      "ABCDEF95G01A123B Cognome: ABC Nome: DEF\n",
      "STUVWX95Z04A654E Cognome: STU Nome: VWX\n",
      "DEFGHI95J06A987G Cognome: DEF Nome: GHI\n"
     ]
    }
   ],
   "source": [
    "lcf = [\"ABCDEF95G01A123B\", \"GHIJKL91M02A321C\", \"MNOPQR89S03A456D\", \"STUVWX95Z04A654E\", \"XYZABC01D05A789F\", \"DEFGHI95J06A987G\"]\n",
    "\n",
    "print(\"Codici Fiscali della lista che contengono 95:\")\n",
    "for c in lcf: \n",
    "    if \"95\" in c:\n",
    "        print(c\n",
    "            , \"Cognome:\", c[0:3]\n",
    "            , \"Nome:\", c[3:6])"
   ]
  },
  {
   "cell_type": "code",
   "execution_count": 26,
   "id": "6fac32f7-a6e3-48fd-811e-6a9a92c6c1d1",
   "metadata": {},
   "outputs": [
    {
     "name": "stdout",
     "output_type": "stream",
     "text": [
      "Alex del corso di Cybersecurity\n",
      "Faith del corso di Backend\n"
     ]
    }
   ],
   "source": [
    "studenti = [\"Alex\", \"Bob\", \"Cindy\", \"Dan\", \"Emma\", \"Faith\", \"Grace\", \"Henry\"] \n",
    "corsi = [\"Cybersecurity\", \"Data Analyst\", \"Backend\", \"Frontend\", \"Data Analyst\", \"Backend\", \"Frontend\", \"Cybersecurity\"] \n",
    "edizioni = [1, 2, 3, 2, 2, 1, 3, 3]\n",
    "en= enumerate(edizioni)\n",
    "\n",
    "for i in en:\n",
    "    if i[1] == 1: \n",
    "        ind = i[0]\n",
    "        print(studenti[ind],\"del corso di\",  corsi[ind])"
   ]
  },
  {
   "cell_type": "code",
   "execution_count": 36,
   "id": "472dddff-7aeb-4635-8982-f4860d610563",
   "metadata": {},
   "outputs": [
    {
     "data": {
      "text/plain": [
       "['100 $', '200 $', '500 $', '10 $', '50 $', '70 $']"
      ]
     },
     "execution_count": 36,
     "metadata": {},
     "output_type": "execute_result"
    }
   ],
   "source": [
    "prezzi = [\"100 €\", \"200 €\", \"500 €\", \"10 €\", \"50 €\", \"70 €\"]\n",
    "\n",
    "for i in range(len(prezzi)): \n",
    "    if \"€\" in prezzi[i]:\n",
    "        prezzi[i] = prezzi[i].replace(\"€\", \"$\")\n",
    "prezzi\n",
    "\n"
   ]
  },
  {
   "cell_type": "code",
   "execution_count": 46,
   "id": "2c0ebfd6-c412-49f7-9d6c-cd907e21445a",
   "metadata": {},
   "outputs": [
    {
     "name": "stdout",
     "output_type": "stream",
     "text": [
      "['Alex', 'Cindy', 'Emma', 'Grace', 'Isabelle']\n",
      "['Bob', 'Dan', 'Faith', 'Henry', 'John']\n"
     ]
    }
   ],
   "source": [
    "studenti = [\"Alex\", \"Bob\", \"Cindy\", \"Dan\", \"Emma\", \"Faith\", \"Grace\", \"Henry\", \"Isabelle\", \"John\"]\n",
    "pari=[]\n",
    "dispari=[]\n",
    "for i in range(len(studenti)):\n",
    "    if i % 2 == 0: \n",
    "        pari.append(studenti[i])\n",
    "    else: \n",
    "        dispari.append(studenti[i])\n",
    "print(pari)\n",
    "print(dispari)"
   ]
  },
  {
   "cell_type": "code",
   "execution_count": 11,
   "id": "48a1ca6d-456b-41a4-8c4b-492fc6e7e920",
   "metadata": {},
   "outputs": [
    {
     "name": "stdout",
     "output_type": "stream",
     "text": [
      "La media è nulla\n",
      "Mese 2: guadagni di 90 contro una media precente di 100.0 $\n",
      "Mese 3: guadagni di 70 contro una media precente di 95.0 $\n",
      "Mese 4: guadagni di 40 contro una media precente di 86.66666666666667 $\n",
      "Mese 5: guadagni di 50 contro una media precente di 75.0 $\n",
      "Mese 6: guadagni di 80 contro una media precente di 70.0 $\n",
      "Mese 7: guadagni di 90 contro una media precente di 71.66666666666667 $\n",
      "Mese 8: guadagni di 120 contro una media precente di 74.28571428571429 $\n",
      "Mese 9: guadagni di 80 contro una media precente di 80.0 $\n",
      "Mese 10: guadagni di 20 contro una media precente di 80.0 $\n",
      "Mese 11: guadagni di 50 contro una media precente di 74.0 $\n",
      "Mese 12: guadagni di 50 contro una media precente di 71.81818181818181 $\n"
     ]
    }
   ],
   "source": [
    "guadagni = [100, 90, 70, 40, 50, 80, 90, 120, 80, 20, 50, 50]\n",
    "somma = 0 \n",
    "n = 0\n",
    "for i in range(len(guadagni)):\n",
    "        if n == 0:\n",
    "            print(\"La media è nulla\")\n",
    "        else: \n",
    "            print(f\"Mese {i+1}: guadagni di {guadagni[i]} contro una media precente di {somma/n} $\")\n",
    "        somma += guadagni[i]\n",
    "        n += 1"
   ]
  },
  {
   "cell_type": "code",
   "execution_count": null,
   "id": "4803b083-2df7-4df6-978b-7ca5bf86de4e",
   "metadata": {},
   "outputs": [],
   "source": []
  }
 ],
 "metadata": {
  "kernelspec": {
   "display_name": "Python 3 (ipykernel)",
   "language": "python",
   "name": "python3"
  },
  "language_info": {
   "codemirror_mode": {
    "name": "ipython",
    "version": 3
   },
   "file_extension": ".py",
   "mimetype": "text/x-python",
   "name": "python",
   "nbconvert_exporter": "python",
   "pygments_lexer": "ipython3",
   "version": "3.12.7"
  }
 },
 "nbformat": 4,
 "nbformat_minor": 5
}
